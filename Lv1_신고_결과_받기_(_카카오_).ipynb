{
  "nbformat": 4,
  "nbformat_minor": 0,
  "metadata": {
    "colab": {
      "name": "Lv1. 신고 결과 받기 ( 카카오 ).ipynb",
      "provenance": [],
      "collapsed_sections": [],
      "authorship_tag": "ABX9TyPvbwpyKi+bfpPhyWtDq85h",
      "include_colab_link": true
    },
    "kernelspec": {
      "name": "python3",
      "display_name": "Python 3"
    },
    "language_info": {
      "name": "python"
    }
  },
  "cells": [
    {
      "cell_type": "markdown",
      "metadata": {
        "id": "view-in-github",
        "colab_type": "text"
      },
      "source": [
        "<a href=\"https://colab.research.google.com/github/kikiru328/Programmers/blob/main/Lv1_%EC%8B%A0%EA%B3%A0_%EA%B2%B0%EA%B3%BC_%EB%B0%9B%EA%B8%B0_(_%EC%B9%B4%EC%B9%B4%EC%98%A4_).ipynb\" target=\"_parent\"><img src=\"https://colab.research.google.com/assets/colab-badge.svg\" alt=\"Open In Colab\"/></a>"
      ]
    },
    {
      "cell_type": "markdown",
      "source": [
        "### 문제설명"
      ],
      "metadata": {
        "id": "6okrAaO7Z-RT"
      }
    },
    {
      "cell_type": "markdown",
      "source": [
        "신입사원 무지는 게시판 불량 이용자를 신고하고 처리 결과를 메일로 발송하는 시스템을 개발하려 합니다. 무지가 개발하려는 시스템은 다음과 같습니다.\n",
        "\n",
        "각 유저는 한 번에 한 명의 유저를 신고할 수 있습니다.\n",
        "신고 횟수에 제한은 없습니다. 서로 다른 유저를 계속해서 신고할 수 있습니다.\n",
        "한 유저를 여러 번 신고할 수도 있지만, 동일한 유저에 대한 신고 횟수는 1회로 처리됩니다.\n",
        "k번 이상 신고된 유저는 게시판 이용이 정지되며, 해당 유저를 신고한 모든 유저에게 정지 사실을 메일로 발송합니다.\n",
        "유저가 신고한 모든 내용을 취합하여 마지막에 한꺼번에 게시판 이용 정지를 시키면서 정지 메일을 발송합니다.\n",
        "다음은 전체 유저 목록이 [\"muzi\", \"frodo\", \"apeach\", \"neo\"]이고, k = 2(즉, 2번 이상 신고당하면 이용 정지)인 경우의 예시입니다.\n",
        "\n",
        "유저 ID\t유저가 신고한 ID\t설명\n",
        "\"muzi\"\t\"frodo\"\t\"muzi\"가 \"frodo\"를 신고했습니다.\n",
        "\"apeach\"\t\"frodo\"\t\"apeach\"가 \"frodo\"를 신고했습니다.\n",
        "\"frodo\"\t\"neo\"\t\"frodo\"가 \"neo\"를 신고했습니다.\n",
        "\"muzi\"\t\"neo\"\t\"muzi\"가 \"neo\"를 신고했습니다.\n",
        "\"apeach\"\t\"muzi\"\t\"apeach\"가 \"muzi\"를 신고했습니다.\n",
        "각 유저별로 신고당한 횟수는 다음과 같습니다.\n",
        "\n",
        "유저 ID\t신고당한 횟수\n",
        "\"muzi\"\t1\n",
        "\"frodo\"\t2\n",
        "\"apeach\"\t0\n",
        "\"neo\"\t2\n",
        "위 예시에서는 2번 이상 신고당한 \"frodo\"와 \"neo\"의 게시판 이용이 정지됩니다. 이때, 각 유저별로 신고한 아이디와 정지된 아이디를 정리하면 다음과 같습니다.\n",
        "\n",
        "유저 ID\t유저가 신고한 ID\t정지된 ID\n",
        "\"muzi\"\t[\"frodo\", \"neo\"]\t[\"frodo\", \"neo\"]\n",
        "\"frodo\"\t[\"neo\"]\t[\"neo\"]\n",
        "\"apeach\"\t[\"muzi\", \"frodo\"]\t[\"frodo\"]\n",
        "\"neo\"\t없음\t없음\n",
        "따라서 \"muzi\"는 처리 결과 메일을 2회, \"frodo\"와 \"apeach\"는 각각 처리 결과 메일을 1회 받게 됩니다.\n",
        "\n",
        "이용자의 ID가 담긴 문자열 배열 id_list, 각 이용자가 신고한 이용자의 ID 정보가 담긴 문자열 배열 report, 정지 기준이 되는 신고 횟수 k가 매개변수로 주어질 때, 각 유저별로 처리 결과 메일을 받은 횟수를 배열에 담아 return 하도록 solution 함수를 완성해주세요.\n",
        "\n",
        "제한사항\n",
        "2 ≤ id_list의 길이 ≤ 1,000\n",
        "1 ≤ id_list의 원소 길이 ≤ 10\n",
        "id_list의 원소는 이용자의 id를 나타내는 문자열이며 알파벳 소문자로만 이루어져 있습니다.\n",
        "id_list에는 같은 아이디가 중복해서 들어있지 않습니다.\n",
        "1 ≤ report의 길이 ≤ 200,000\n",
        "3 ≤ report의 원소 길이 ≤ 21\n",
        "report의 원소는 \"이용자id 신고한id\"형태의 문자열입니다.\n",
        "예를 들어 \"muzi frodo\"의 경우 \"muzi\"가 \"frodo\"를 신고했다는 의미입니다.\n",
        "id는 알파벳 소문자로만 이루어져 있습니다.\n",
        "이용자id와 신고한id는 공백(스페이스)하나로 구분되어 있습니다.\n",
        "자기 자신을 신고하는 경우는 없습니다.\n",
        "1 ≤ k ≤ 200, k는 자연수입니다.\n",
        "return 하는 배열은 id_list에 담긴 id 순서대로 각 유저가 받은 결과 메일 수를 담으면 됩니다.\n",
        "입출력 예\n",
        "id_list\treport\tk\tresult\n",
        "[\"muzi\", \"frodo\", \"apeach\", \"neo\"]\t[\"muzi frodo\",\"apeach frodo\",\"frodo neo\",\"muzi neo\",\"apeach muzi\"]\t2\t[2,1,1,0]\n",
        "[\"con\", \"ryan\"]\t[\"ryan con\", \"ryan con\", \"ryan con\", \"ryan con\"]\t3\t[0,0]\n",
        "입출력 예 설명\n",
        "입출력 예 #1\n",
        "\n",
        "문제의 예시와 같습니다.\n",
        "\n",
        "입출력 예 #2\n",
        "\n",
        "\"ryan\"이 \"con\"을 4번 신고했으나, 주어진 조건에 따라 한 유저가 같은 유저를 여러 번 신고한 경우는 신고 횟수 1회로 처리합니다. 따라서 \"con\"은 1회 신고당했습니다. 3번 이상 신고당한 이용자는 없으며, \"con\"과 \"ryan\"은 결과 메일을 받지 않습니다. 따라서 [0, 0]을 return 합니다.\n",
        "\n",
        "제한시간 안내\n",
        "정확성 테스트 : 10초"
      ],
      "metadata": {
        "id": "C9xBgS7YaFO3"
      }
    },
    {
      "cell_type": "markdown",
      "source": [
        "### solution.py"
      ],
      "metadata": {
        "id": "ltjIzmf0aHii"
      }
    },
    {
      "cell_type": "code",
      "source": [
        "def solution(id_list, report, k):\n",
        "    answer = []\n",
        "    return answer"
      ],
      "metadata": {
        "id": "v4C1ehB_akzu"
      },
      "execution_count": null,
      "outputs": []
    },
    {
      "cell_type": "markdown",
      "source": [
        "### Solve"
      ],
      "metadata": {
        "id": "zQwhvp6Qal8S"
      }
    },
    {
      "cell_type": "markdown",
      "source": [
        "1. 우선 신고한 사람과 신고 받은 사람을 분리\n",
        "2. 분리 후 신고 받은 사람의 횟수가 k 를 넘을 시 메일\n",
        "3. 문제는 신고한 사람이 한 사람을 여러번 했을 시 중복되지 않게 해야 함.\n",
        "4. 중복되지 않게 한다 == set 을 이용\n",
        "5. 한 사람이 여러 사람들을 신고가 가능함 == dictional, value == list\n",
        "6. Dictionary 로 데이터를 정리 후 key value를 나눔\n",
        "7. 나누고 나서 value의 개수가 k 보다 넘을때를 기준으로 나눔\n",
        "8. 만약 value가 k보다 넘을때, 메일 개수 적용"
      ],
      "metadata": {
        "id": "PbrQ7dvhaoKC"
      }
    },
    {
      "cell_type": "code",
      "source": [
        "id_list = [\"muzi\", \"frodo\", \"apeach\", \"neo\"]\n",
        "report = [\"muzi frodo\",\"apeach frodo\",\"frodo neo\",\"muzi neo\",\"apeach muzi\"]\n",
        "k = 2 \n",
        "result = [2,1,1,0]"
      ],
      "metadata": {
        "id": "wyJ6YrE-b3cC"
      },
      "execution_count": 1,
      "outputs": []
    },
    {
      "cell_type": "code",
      "source": [
        "# 우선 list의 분리\n",
        "dic = { id : [] for id in id_list} # key == id, value == list\n",
        "answer = [0] * len(id_list)\n",
        "# 중복되지 않게 적용\n",
        "for i in set(report):\n",
        "    rep = i.split(' ') #리스트 분리\n",
        "    dic[rep[1]].append(rep[0]) # value 추가\n",
        "print(dic)\n",
        "for key, value in dic.items(): # diction 정리\n",
        "    if len(value) >= k : # k 값 이상시 메일\n",
        "        for val in value:\n",
        "            answer[id_list.index(val)] += 1 # 해당 리스트 위치에 숫자 += 1\n",
        "            print(answer)"
      ],
      "metadata": {
        "colab": {
          "base_uri": "https://localhost:8080/"
        },
        "id": "WESTqi9KcI_J",
        "outputId": "b9428a67-195f-47ea-ffef-a61b700a8aff"
      },
      "execution_count": 24,
      "outputs": [
        {
          "output_type": "stream",
          "name": "stdout",
          "text": [
            "{'muzi': ['apeach'], 'frodo': ['apeach', 'muzi'], 'apeach': [], 'neo': ['muzi', 'frodo']}\n",
            "[0, 0, 1, 0]\n",
            "[1, 0, 1, 0]\n",
            "[2, 0, 1, 0]\n",
            "[2, 1, 1, 0]\n"
          ]
        }
      ]
    },
    {
      "cell_type": "markdown",
      "source": [
        "### Answer"
      ],
      "metadata": {
        "id": "uulsVy-8b2I3"
      }
    },
    {
      "cell_type": "markdown",
      "source": [
        "def solution(id_list, report, k):\n",
        "\n",
        "    dic = { id : [] for id in id_list}\n",
        "    answer = [0] * len(id_list)\n",
        "    s = []\n",
        "    for i in set(report):\n",
        "        rep = i.split(' ')\n",
        "        s.append(rep[1])\n",
        "        dic[rep[1]].append(rep[0])\n",
        "        \n",
        "    for key, value in dic.items():\n",
        "        if len(value)>=k:\n",
        "            for val in value:\n",
        "                answer[id_list.index(val)] += 1     \n",
        "    return answer\n",
        "\n",
        "\n"
      ],
      "metadata": {
        "id": "9tlNooyLahwr"
      }
    },
    {
      "cell_type": "markdown",
      "source": [
        "### Review"
      ],
      "metadata": {
        "id": "mSmML53Kbrml"
      }
    },
    {
      "cell_type": "markdown",
      "source": [
        "1. dictionary의 사용법 잊음\n",
        "2. set의 사용법 잊음\n",
        "3. 문제이해 못함\n",
        "4. 나는 멍청이\n",
        "5. 분명 한글인데"
      ],
      "metadata": {
        "id": "cmOqdfQheN_Y"
      }
    }
  ]
}