{
 "cells": [
  {
   "cell_type": "code",
   "execution_count": 9,
   "metadata": {},
   "outputs": [
    {
     "name": "stdout",
     "output_type": "stream",
     "text": [
      "chrome driver is not installed : 99\\chromdedriver.exe\n",
      "install the chrome driver > version : 99\n",
      "install complete > 99\\chromdedriver.exe\n"
     ]
    }
   ],
   "source": [
    "import chromedriver_autoinstaller\n",
    "from selenium import webdriver\n",
    "import os\n",
    "\n",
    "chrome_version = chromedriver_autoinstaller.get_chrome_version().split('.')[0]\n",
    "\n",
    "driver_path = f'{chrome_version}\\chromdedriver.exe'\n",
    "\n",
    "if os.path.exists(driver_path):\n",
    "    print(f'chrome driver is installed : {driver_path}')\n",
    "else:\n",
    "    print(f'chrome driver is not installed : {driver_path}')\n",
    "    print(f'install the chrome driver > version : {chrome_version}')\n",
    "    print(f'install complete > {driver_path}')\n",
    "    chromedriver_autoinstaller.install(True)\n",
    "\n",
    "driver = webdriver.Chrome()\n"
   ]
  },
  {
   "cell_type": "code",
   "execution_count": null,
   "metadata": {},
   "outputs": [],
   "source": [
    "C:\\Dev\\NLP\\Crawling\\Scrapy\\scrapy\\99\\chromedriver.exe"
   ]
  },
  {
   "cell_type": "code",
   "execution_count": 3,
   "metadata": {},
   "outputs": [
    {
     "data": {
      "text/plain": [
       "'99/chromdedriver.exe'"
      ]
     },
     "execution_count": 3,
     "metadata": {},
     "output_type": "execute_result"
    }
   ],
   "source": [
    "driver_path"
   ]
  },
  {
   "cell_type": "code",
   "execution_count": 8,
   "metadata": {},
   "outputs": [
    {
     "data": {
      "text/plain": [
       "'C:\\\\Dev\\\\NLP\\\\Crawling\\\\Scrapy\\\\scrapy'"
      ]
     },
     "execution_count": 8,
     "metadata": {},
     "output_type": "execute_result"
    }
   ],
   "source": [
    "%pwd"
   ]
  },
  {
   "cell_type": "code",
   "execution_count": 6,
   "metadata": {},
   "outputs": [
    {
     "name": "stdout",
     "output_type": "stream",
     "text": [
      "already has\n"
     ]
    }
   ],
   "source": [
    "if os.path.exists(r'C:\\Dev\\NLP\\Crawling\\Scrapy\\scrapy\\99\\chromedriver.exe'):\n",
    "    print('already has')\n",
    "else:\n",
    "    print('no we have not already')"
   ]
  },
  {
   "cell_type": "code",
   "execution_count": 8,
   "metadata": {},
   "outputs": [
    {
     "data": {
      "text/plain": [
       "False"
      ]
     },
     "execution_count": 8,
     "metadata": {},
     "output_type": "execute_result"
    }
   ],
   "source": [
    "os.path.exists(driver_path)"
   ]
  },
  {
   "cell_type": "code",
   "execution_count": 9,
   "metadata": {},
   "outputs": [
    {
     "data": {
      "text/plain": [
       "'./99/chromdedriver.exe'"
      ]
     },
     "execution_count": 9,
     "metadata": {},
     "output_type": "execute_result"
    }
   ],
   "source": [
    "driver_path"
   ]
  },
  {
   "cell_type": "code",
   "execution_count": 10,
   "metadata": {},
   "outputs": [
    {
     "data": {
      "text/plain": [
       "'c:\\\\Dev\\\\NLP\\\\Crawling\\\\Scrapy\\\\scrapy'"
      ]
     },
     "execution_count": 10,
     "metadata": {},
     "output_type": "execute_result"
    }
   ],
   "source": [
    "%pwd"
   ]
  },
  {
   "cell_type": "code",
   "execution_count": 11,
   "metadata": {},
   "outputs": [
    {
     "name": "stdout",
     "output_type": "stream",
     "text": [
      " C ����̺��� �������� �̸��� �����ϴ�.\n",
      " ���� �Ϸ� ��ȣ: 32BB-C184\n",
      "\n",
      " c:\\Dev\\NLP\\Crawling\\Scrapy\\scrapy ���͸�\n",
      "\n",
      "2022-03-14  ���� 04:51    <DIR>          .\n",
      "2022-03-14  ���� 11:48    <DIR>          ..\n",
      "2022-03-14  ���� 04:51    <DIR>          99\n",
      "2022-03-14  ���� 01:41             1,703 Chromedriver_autoinstaller.ipynb\n",
      "2022-03-14  ���� 12:02               139 Readme.txt\n",
      "2022-03-14  ���� 11:50    <DIR>          test_module\n",
      "2022-03-14  ���� 12:02             1,459 test_module.ipynb\n",
      "               3�� ����               3,301 ����Ʈ\n",
      "               4�� ���͸�  328,747,270,144 ����Ʈ ����\n"
     ]
    }
   ],
   "source": [
    "%ls"
   ]
  },
  {
   "cell_type": "code",
   "execution_count": null,
   "metadata": {},
   "outputs": [],
   "source": []
  }
 ],
 "metadata": {
  "interpreter": {
   "hash": "d8e85bb4155938a63eb24146fef15fd058dfdaf7d7eb7fbad1d1d3227f809d67"
  },
  "kernelspec": {
   "display_name": "Python 3 (ipykernel)",
   "language": "python",
   "name": "python3"
  },
  "language_info": {
   "codemirror_mode": {
    "name": "ipython",
    "version": 3
   },
   "file_extension": ".py",
   "mimetype": "text/x-python",
   "name": "python",
   "nbconvert_exporter": "python",
   "pygments_lexer": "ipython3",
   "version": "3.8.12"
  }
 },
 "nbformat": 4,
 "nbformat_minor": 4
}
