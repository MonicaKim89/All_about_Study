{
 "cells": [
  {
   "cell_type": "code",
   "execution_count": 1,
   "id": "44b8d17f-8452-46a8-8bdb-0ed108459a8f",
   "metadata": {},
   "outputs": [
    {
     "data": {
      "text/plain": [
       "'C:\\\\Dev\\\\NLP\\\\Crawling\\\\Scrapy\\\\scrapy\\\\test_module\\\\test_module'"
      ]
     },
     "execution_count": 1,
     "metadata": {},
     "output_type": "execute_result"
    }
   ],
   "source": [
    "%pwd"
   ]
  },
  {
   "cell_type": "code",
   "execution_count": 2,
   "id": "e864ad05-7162-4862-8e91-dd09632b05a4",
   "metadata": {},
   "outputs": [
    {
     "name": "stdout",
     "output_type": "stream",
     "text": [
      "C:\\Dev\\NLP\\Crawling\\Scrapy\\scrapy\\test_module\\test_module\\spiders\n"
     ]
    }
   ],
   "source": [
    "%cd spiders"
   ]
  },
  {
   "cell_type": "code",
   "execution_count": 3,
   "id": "584362c1-db52-409b-b3f8-90ef149380b9",
   "metadata": {},
   "outputs": [],
   "source": [
    "import sys\n",
    "sys.path.append('spiders')"
   ]
  },
  {
   "cell_type": "code",
   "execution_count": 4,
   "id": "cb35ce21-8783-4909-927a-235fc43c44e7",
   "metadata": {},
   "outputs": [],
   "source": [
    "import importlib\n",
    "pass_py = importlib.import_module('TEST')"
   ]
  },
  {
   "cell_type": "code",
   "execution_count": 5,
   "id": "7acacfa6-8469-4432-8c74-e6e9cee819d8",
   "metadata": {},
   "outputs": [
    {
     "data": {
      "text/plain": [
       "<module 'TEST' from 'C:\\\\Dev\\\\NLP\\\\Crawling\\\\Scrapy\\\\scrapy\\\\test_module\\\\test_module\\\\spiders\\\\TEST.py'>"
      ]
     },
     "execution_count": 5,
     "metadata": {},
     "output_type": "execute_result"
    }
   ],
   "source": [
    "pass_py"
   ]
  },
  {
   "cell_type": "code",
   "execution_count": 6,
   "id": "62196ebe-7ba9-44c3-a7d4-6e92f320fc3c",
   "metadata": {},
   "outputs": [],
   "source": []
  },
  {
   "cell_type": "code",
   "execution_count": 7,
   "id": "96c4705f-2f6a-44c6-80a9-47a6ad98ac98",
   "metadata": {},
   "outputs": [
    {
     "data": {
      "text/plain": [
       "pass_test.active_crawl"
      ]
     },
     "execution_count": 7,
     "metadata": {},
     "output_type": "execute_result"
    }
   ],
   "source": [
    "middle_mod"
   ]
  },
  {
   "cell_type": "code",
   "execution_count": 8,
   "id": "35ac4876-ed32-44b7-b90a-c2cd323746fe",
   "metadata": {},
   "outputs": [
    {
     "name": "stdout",
     "output_type": "stream",
     "text": [
      "Help on class active_crawl in module pass_test:\n",
      "\n",
      "class active_crawl(builtins.object)\n",
      " |  Methods defined here:\n",
      " |  \n",
      " |  selenium_opt()\n",
      " |  \n",
      " |  ----------------------------------------------------------------------\n",
      " |  Data descriptors defined here:\n",
      " |  \n",
      " |  __dict__\n",
      " |      dictionary for instance variables (if defined)\n",
      " |  \n",
      " |  __weakref__\n",
      " |      list of weak references to the object (if defined)\n",
      "\n"
     ]
    }
   ],
   "source": [
    "help(middle_mod)"
   ]
  },
  {
   "cell_type": "code",
   "execution_count": 9,
   "id": "f5c03210-c719-4518-baa7-5eb2950b4b98",
   "metadata": {},
   "outputs": [
    {
     "name": "stdout",
     "output_type": "stream",
     "text": [
      "ch rome driver is not installed : ../chrome_driver/99/chromdedriver.exe\n",
      "install the chrome driver > version : 99\n"
     ]
    },
    {
     "ename": "ImportError",
     "evalue": "cannot import name 'options' from 'selenium.webdriver.chrome.options' (C:\\Users\\baeky\\anaconda3\\envs\\scrapy\\lib\\site-packages\\selenium\\webdriver\\chrome\\options.py)",
     "output_type": "error",
     "traceback": [
      "\u001b[1;31m---------------------------------------------------------------------------\u001b[0m",
      "\u001b[1;31mImportError\u001b[0m                               Traceback (most recent call last)",
      "\u001b[1;32m~\\AppData\\Local\\Temp\\ipykernel_18500\\138948714.py\u001b[0m in \u001b[0;36m<module>\u001b[1;34m\u001b[0m\n\u001b[1;32m----> 1\u001b[1;33m \u001b[0mmiddle_mod\u001b[0m\u001b[1;33m.\u001b[0m\u001b[0mselenium_opt\u001b[0m\u001b[1;33m(\u001b[0m\u001b[1;33m)\u001b[0m\u001b[1;33m\u001b[0m\u001b[1;33m\u001b[0m\u001b[0m\n\u001b[0m",
      "\u001b[1;32mC:\\Dev\\NLP\\Crawling\\Scrapy\\scrapy\\test_module\\test_module\\spiders\\../../Pass\\pass_test.py\u001b[0m in \u001b[0;36mselenium_opt\u001b[1;34m()\u001b[0m\n\u001b[0;32m     38\u001b[0m         \u001b[1;32mfrom\u001b[0m \u001b[0mscrapy\u001b[0m\u001b[1;33m.\u001b[0m\u001b[0mutils\u001b[0m\u001b[1;33m.\u001b[0m\u001b[0mpython\u001b[0m \u001b[1;32mimport\u001b[0m \u001b[0mto_bytes\u001b[0m\u001b[1;33m\u001b[0m\u001b[1;33m\u001b[0m\u001b[0m\n\u001b[0;32m     39\u001b[0m         \u001b[0mdriver\u001b[0m \u001b[1;33m=\u001b[0m \u001b[0mchrome_driver_selenium\u001b[0m\u001b[1;33m(\u001b[0m\u001b[1;33m)\u001b[0m\u001b[1;33m\u001b[0m\u001b[1;33m\u001b[0m\u001b[0m\n\u001b[1;32m---> 40\u001b[1;33m         \u001b[1;32mfrom\u001b[0m \u001b[0mselenium\u001b[0m\u001b[1;33m.\u001b[0m\u001b[0mwebdriver\u001b[0m\u001b[1;33m.\u001b[0m\u001b[0mchrome\u001b[0m\u001b[1;33m.\u001b[0m\u001b[0moptions\u001b[0m \u001b[1;32mimport\u001b[0m \u001b[0moptions\u001b[0m\u001b[1;33m\u001b[0m\u001b[1;33m\u001b[0m\u001b[0m\n\u001b[0m\u001b[0;32m     41\u001b[0m         \u001b[1;32mfrom\u001b[0m \u001b[0mtime\u001b[0m \u001b[1;32mimport\u001b[0m \u001b[0msleep\u001b[0m\u001b[1;33m\u001b[0m\u001b[1;33m\u001b[0m\u001b[0m\n\u001b[0;32m     42\u001b[0m \u001b[1;33m\u001b[0m\u001b[0m\n",
      "\u001b[1;31mImportError\u001b[0m: cannot import name 'options' from 'selenium.webdriver.chrome.options' (C:\\Users\\baeky\\anaconda3\\envs\\scrapy\\lib\\site-packages\\selenium\\webdriver\\chrome\\options.py)"
     ]
    }
   ],
   "source": [
    "middle_mod.selenium_opt()"
   ]
  },
  {
   "cell_type": "code",
   "execution_count": null,
   "id": "fb04ed02-ddf9-4704-a1ba-9ae6d943a844",
   "metadata": {},
   "outputs": [],
   "source": []
  }
 ],
 "metadata": {
  "kernelspec": {
   "display_name": "Python 3 (ipykernel)",
   "language": "python",
   "name": "python3"
  },
  "language_info": {
   "codemirror_mode": {
    "name": "ipython",
    "version": 3
   },
   "file_extension": ".py",
   "mimetype": "text/x-python",
   "name": "python",
   "nbconvert_exporter": "python",
   "pygments_lexer": "ipython3",
   "version": "3.8.12"
  }
 },
 "nbformat": 4,
 "nbformat_minor": 5
}
