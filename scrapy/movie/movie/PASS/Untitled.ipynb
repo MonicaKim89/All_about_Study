{
 "cells": [
  {
   "cell_type": "code",
   "execution_count": 4,
   "id": "cc304648-889f-496c-8994-42d29d8bf1c3",
   "metadata": {},
   "outputs": [
    {
     "data": {
      "text/plain": [
       "['https://movie.naver.com/movie/bi/mi/basic.naver?code=190991',\n",
       " 'https://movie.naver.com/movie/bi/mi/basic.naver?code=154282']"
      ]
     },
     "execution_count": 4,
     "metadata": {},
     "output_type": "execute_result"
    }
   ],
   "source": [
    "import pandas as pd\n",
    "csv = pd.read_csv('test.csv',index_col=0)\n",
    "url_list = list(csv['url'])\n",
    "url_list"
   ]
  },
  {
   "cell_type": "code",
   "execution_count": null,
   "id": "43cd8083-471e-4928-9c49-c378761cf5a1",
   "metadata": {},
   "outputs": [],
   "source": [
    "#content > div.article > div.mv_info_area > div.mv_info > dl > dd:nth-child(10) > div > p.count\n",
    "#content > div.article > div.mv_info_area > div.mv_info > dl > dd:nth-child(10) > div > p.count"
   ]
  },
  {
   "cell_type": "code",
   "execution_count": 5,
   "id": "7be99692-d4ab-4449-ad1a-c095db9f56d4",
   "metadata": {},
   "outputs": [
    {
     "data": {
      "text/plain": [
       "'C:\\\\Dev\\\\NLP\\\\Crawling\\\\Scrapy\\\\scrapy\\\\movie\\\\movie\\\\PASS'"
      ]
     },
     "execution_count": 5,
     "metadata": {},
     "output_type": "execute_result"
    }
   ],
   "source": [
    "%pwd"
   ]
  },
  {
   "cell_type": "code",
   "execution_count": 6,
   "id": "5b730750-d7da-4033-a51f-c9b82f45597b",
   "metadata": {},
   "outputs": [],
   "source": [
    "import importlib"
   ]
  },
  {
   "cell_type": "code",
   "execution_count": 18,
   "id": "4e5f4428-3374-4dbb-8d0a-c1f03899e18b",
   "metadata": {},
   "outputs": [],
   "source": [
    "module_name = 'A'"
   ]
  },
  {
   "cell_type": "code",
   "execution_count": 19,
   "id": "4c9ebfe5-aa3d-4c09-a330-cbedbfb0c51d",
   "metadata": {},
   "outputs": [],
   "source": [
    "def load_module_func(module_name):\n",
    "\n",
    "    mod = importlib.import_module(module_name)\n",
    "\n",
    "    return mod\n"
   ]
  },
  {
   "cell_type": "code",
   "execution_count": 22,
   "id": "1b81aecd-cb45-4fb0-b0b2-4460701275d5",
   "metadata": {},
   "outputs": [],
   "source": [
    "A = load_module_func(module_name)"
   ]
  },
  {
   "cell_type": "code",
   "execution_count": 23,
   "id": "34373599-9343-4452-a213-75a9b8278e94",
   "metadata": {},
   "outputs": [
    {
     "data": {
      "text/plain": [
       "['https://movie.naver.com/movie/bi/mi/basic.naver?code=190991',\n",
       " 'https://movie.naver.com/movie/bi/mi/basic.naver?code=154282']"
      ]
     },
     "execution_count": 23,
     "metadata": {},
     "output_type": "execute_result"
    }
   ],
   "source": [
    "A.urls()"
   ]
  },
  {
   "cell_type": "code",
   "execution_count": null,
   "id": "2f15a3af-a9fe-4c55-85e6-87efab51667f",
   "metadata": {},
   "outputs": [],
   "source": []
  }
 ],
 "metadata": {
  "kernelspec": {
   "display_name": "Python 3 (ipykernel)",
   "language": "python",
   "name": "python3"
  },
  "language_info": {
   "codemirror_mode": {
    "name": "ipython",
    "version": 3
   },
   "file_extension": ".py",
   "mimetype": "text/x-python",
   "name": "python",
   "nbconvert_exporter": "python",
   "pygments_lexer": "ipython3",
   "version": "3.8.12"
  }
 },
 "nbformat": 4,
 "nbformat_minor": 5
}
