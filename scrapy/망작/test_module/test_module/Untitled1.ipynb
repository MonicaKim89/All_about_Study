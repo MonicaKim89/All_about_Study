{
 "cells": [
  {
   "cell_type": "code",
   "execution_count": 12,
   "id": "977a7491",
   "metadata": {},
   "outputs": [],
   "source": [
    "import scrapy_selenium"
   ]
  },
  {
   "cell_type": "code",
   "execution_count": 13,
   "id": "30df759d",
   "metadata": {},
   "outputs": [
    {
     "data": {
      "text/plain": [
       "scrapy_selenium.http.SeleniumRequest"
      ]
     },
     "execution_count": 13,
     "metadata": {},
     "output_type": "execute_result"
    }
   ],
   "source": [
    "scrapy_selenium.SeleniumRequest"
   ]
  },
  {
   "cell_type": "code",
   "execution_count": 14,
   "id": "fd37c6bd",
   "metadata": {},
   "outputs": [],
   "source": [
    "from shutil import which"
   ]
  },
  {
   "cell_type": "code",
   "execution_count": 15,
   "id": "72ac24a3",
   "metadata": {},
   "outputs": [
    {
     "data": {
      "text/plain": [
       "<function shutil.which(cmd, mode=1, path=None)>"
      ]
     },
     "execution_count": 15,
     "metadata": {},
     "output_type": "execute_result"
    }
   ],
   "source": [
    "which"
   ]
  },
  {
   "cell_type": "code",
   "execution_count": 16,
   "id": "735b7759",
   "metadata": {},
   "outputs": [
    {
     "data": {
      "text/plain": [
       "'c:\\\\Dev\\\\NLP\\\\Crawling\\\\Scrapy\\\\scrapy\\\\test_module\\\\test_module'"
      ]
     },
     "execution_count": 16,
     "metadata": {},
     "output_type": "execute_result"
    }
   ],
   "source": [
    "%pwd"
   ]
  },
  {
   "cell_type": "code",
   "execution_count": 17,
   "id": "7c2e03e2",
   "metadata": {},
   "outputs": [
    {
     "name": "stdout",
     "output_type": "stream",
     "text": [
      "c:\\Dev\\NLP\\Crawling\\Scrapy\\scrapy\n",
      " C ����̺��� �������� �̸��� �����ϴ�.\n",
      " ���� �Ϸ� ��ȣ: 32BB-C184\n",
      "\n",
      " c:\\Dev\\NLP\\Crawling\\Scrapy\\scrapy ���͸�\n",
      "\n",
      "2022-03-15  ���� 02:30    <DIR>          .\n",
      "2022-03-14  ���� 11:48    <DIR>          ..\n",
      "2022-03-14  ���� 05:00    <DIR>          .ipynb_checkpoints\n",
      "2022-03-15  ���� 02:30    <DIR>          99\n",
      "2022-03-14  ���� 05:04             5,019 Chromedriver_autoinstaller.ipynb\n",
      "2022-03-14  ���� 12:02               139 Readme.txt\n",
      "2022-03-14  ���� 11:50    <DIR>          test_module\n",
      "               2�� ����               5,158 ����Ʈ\n",
      "               5�� ���͸�  329,137,385,472 ����Ʈ ����\n"
     ]
    }
   ],
   "source": [
    "%cd ../..\n",
    "%ls"
   ]
  },
  {
   "cell_type": "code",
   "execution_count": 18,
   "id": "0ed8b812",
   "metadata": {},
   "outputs": [],
   "source": [
    "selenium_driver_name = 'chrome'\n",
    "selenium_driver_executive_path = which('../../99/chromedriver.exe')\n",
    "selenium_driver_arguments=['--headless']"
   ]
  },
  {
   "cell_type": "code",
   "execution_count": null,
   "id": "67f813b6",
   "metadata": {},
   "outputs": [],
   "source": [
    "from scrapy_selenium import SeleniumRequest\n"
   ]
  }
 ],
 "metadata": {
  "kernelspec": {
   "display_name": "Python 3 (ipykernel)",
   "language": "python",
   "name": "python3"
  },
  "language_info": {
   "codemirror_mode": {
    "name": "ipython",
    "version": 3
   },
   "file_extension": ".py",
   "mimetype": "text/x-python",
   "name": "python",
   "nbconvert_exporter": "python",
   "pygments_lexer": "ipython3",
   "version": "3.8.12"
  }
 },
 "nbformat": 4,
 "nbformat_minor": 5
}
