{
 "cells": [
  {
   "cell_type": "code",
   "execution_count": 3,
   "id": "7505eeaf-b4dd-4149-b50f-5580068be552",
   "metadata": {},
   "outputs": [
    {
     "name": "stdout",
     "output_type": "stream",
     "text": [
      "chrome driver is installed : 99\\chromedriver.exe\n",
      "install the chrome driver > version : 99\n",
      "install complete > 99\\chromedriver.exe\n",
      "99\\chromedriver.exe\n"
     ]
    }
   ],
   "source": [
    "import sys\n",
    "import os\n",
    "# sys.path.append(os.path.abspath(os.path.dirname(__file__)))\n",
    "import warnings\n",
    "warnings.filterwarnings(\"ignore\")\n",
    "import time\n",
    "\n",
    "# import python file\n",
    "import chrome_driver_auto\n",
    "driver_path = chrome_driver_auto.Chrome_driver.install_driver_path()\n",
    "chrome_option = chrome_driver_auto.Chrome_driver.chrome_option()\n",
    "\n",
    "from selenium import webdriver\n",
    "from selenium.webdriver.chrome.options import Options\n",
    "from selenium.webdriver.common.keys import Keys\n",
    "# driver = webdriver.Chrome(executable_path = driver_path, chrome_options=chrome_option)\n",
    "\n",
    "\n",
    "# setting url for selenium\n",
    "class crawling:\n",
    "    def __init__(self,driver_path, chrome_option,elements):\n",
    "        self.driver_path = driver_path\n",
    "        self.chrome_option = chrome_option\n",
    "        self.elements = elements\n",
    "        \n",
    "    def url():\n",
    "        start_url = 'https://www.google.com'\n",
    "        return start_url\n",
    "\n",
    "    def selenium_movement(self,driver_path,chrome_option):\n",
    "        driver = webdriver.Chrome(executable_path = driver_path,chrome_options=chrome_option)\n",
    "        \n",
    "        # movement\n",
    "        search_box = driver.find_element_by_xpath('/html/body/div[1]/div[3]/form/div[1]/div[1]/div[1]/div/div[2]/input')\n",
    "        time.sleep(2)\n",
    "        search_box.send_keys('빅데이터')\n",
    "        search_box.send_keys(Keys.RETURN)\n",
    "        time.sleep(2)\n",
    "        searching = driver.find_element_by_xpath('//*[@id=\"Odp5De\"]/div/div/div/div[2]/div[1]/div[2]/g-more-link/a/div/span[2]').click()\n",
    "        time.sleep(1)\n",
    "        # element list\n",
    "        elements = driver.find_elements_by_xpath('//*[@id=\"rso\"]/div/div/div/div/a/h3')\n",
    "        return elements\n",
    "\n",
    "    def parse(response):\n",
    "        title = response.css('//*[@id=\"rso\"]/div/div/div/div/a/h3::text').get()\n",
    "        print(title)\n",
    "            "
   ]
  },
  {
   "cell_type": "code",
   "execution_count": 6,
   "id": "36587aeb-186f-4e0f-a626-b06e9f847e98",
   "metadata": {},
   "outputs": [],
   "source": [
    "driver = webdriver.Chrome(executable_path = driver_path,\n",
    "                          chrome_options=chrome_option)\n",
    "url = crawling.url()\n",
    "driver.get(url)"
   ]
  },
  {
   "cell_type": "code",
   "execution_count": null,
   "id": "0444af66-0e80-46c0-a0c3-081b5aafcfd8",
   "metadata": {},
   "outputs": [],
   "source": []
  }
 ],
 "metadata": {
  "kernelspec": {
   "display_name": "Python 3 (ipykernel)",
   "language": "python",
   "name": "python3"
  },
  "language_info": {
   "codemirror_mode": {
    "name": "ipython",
    "version": 3
   },
   "file_extension": ".py",
   "mimetype": "text/x-python",
   "name": "python",
   "nbconvert_exporter": "python",
   "pygments_lexer": "ipython3",
   "version": "3.8.12"
  }
 },
 "nbformat": 4,
 "nbformat_minor": 5
}
