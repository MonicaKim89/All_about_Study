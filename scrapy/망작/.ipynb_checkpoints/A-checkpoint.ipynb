{
 "cells": [
  {
   "cell_type": "code",
   "execution_count": 1,
   "metadata": {},
   "outputs": [],
   "source": [
    "import chromedriver_autoinstaller\n",
    "from selenium import webdriver\n",
    "from selenium.webdriver.chrome.options import Options\n",
    "import os\n",
    "\n",
    "global url\n",
    "def url():\n",
    "    url = 'https://search.naver.com/search.naver?where=nexearch&sm=top_hty&fbm=1&ie=utf8&query=%EB%82%A0%EC%94%A8'\n",
    "    return url\n",
    "\n",
    "global Chrome_selenium_setting\n",
    "def Chrome_selenium_setting():\n",
    "    # from scrapy.utils.project import get_project_settings\n",
    "    # re_text\n",
    "\n",
    "\n",
    "    chrome_version = chromedriver_autoinstaller.get_chrome_version().split('.')[0]\n",
    "    driver_path = f'{chrome_version}\\chromedriver.exe'\n",
    "\n",
    "    if os.path.exists(driver_path):\n",
    "        print(f'chrome driver is installed : {driver_path}')\n",
    "    else:\n",
    "        print(f'chrome driver is installed : {driver_path}')\n",
    "        print(f'install the chrome driver > version : {chrome_version}')\n",
    "        print(f'install complete > {driver_path}')\n",
    "        chromedriver_autoinstaller.install(True)\n",
    "    chrome_options = Options()\n",
    "    # chrome_options.add_argument('--headless')\n",
    "    # chrome_options.add_argument('--no-sandbox')\n",
    "    # chrome_options.add_argument('--disable-gpu')\n",
    "    \n",
    "    driver = webdriver.Chrome(executable_path = driver_path,\n",
    "                                chrome_options=chrome_options)\n",
    "    return driver\n",
    "\n",
    "# driver = Chrome_selenium_setting()\n",
    "\n",
    "\n",
    "\n",
    "def selenium_movement():\n",
    "    driver = Chrome_selenium_setting()\n",
    "    click_x_path = '//*[@id=\"main_pack\"]/section[1]/div[2]/a/span'\n",
    "    driver.get(url())\n",
    "    body = driver.find_element_by_xpath(click_x_path)\n",
    "    body.click()\n",
    "    visitors_xpath = '//*[@id=\"content\"]/div/div[1]/div[1]/div[1]/div[2]/div[1]/div/strong/span[1]'\n",
    "    visitors = driver.find_element_by_xpath(visitors_xpath).text\n",
    "    # href = visitors.get_attribute('innterText')\n",
    "    print(visitors)\n",
    "    driver.quit()\n",
    "\n"
   ]
  },
  {
   "cell_type": "code",
   "execution_count": 3,
   "metadata": {},
   "outputs": [
    {
     "name": "stdout",
     "output_type": "stream",
     "text": [
      "chrome driver is installed : 99\\chromedriver.exe\n"
     ]
    },
    {
     "name": "stderr",
     "output_type": "stream",
     "text": [
      "C:\\Users\\baeky\\AppData\\Local\\Temp\\ipykernel_22856\\499688027.py:30: DeprecationWarning: executable_path has been deprecated, please pass in a Service object\n",
      "  driver = webdriver.Chrome(executable_path = driver_path,\n",
      "C:\\Users\\baeky\\AppData\\Local\\Temp\\ipykernel_22856\\499688027.py:30: DeprecationWarning: use options instead of chrome_options\n",
      "  driver = webdriver.Chrome(executable_path = driver_path,\n"
     ]
    }
   ],
   "source": [
    "\n",
    "global url\n",
    "def url():\n",
    "    selenium_open_url = 'https://www.daum.net/'\n",
    "    return selenium_open_url\n",
    "\n",
    "global Chrome_selenium_setting\n",
    "def Chrome_selenium_setting():\n",
    "    # re_text\n",
    "    import chromedriver_autoinstaller\n",
    "    from selenium import webdriver\n",
    "    from selenium.webdriver.chrome.options import Options\n",
    "    import os\n",
    "\n",
    "    chrome_version = chromedriver_autoinstaller.get_chrome_version().split('.')[0]\n",
    "    driver_path = f'{chrome_version}\\chromedriver.exe'\n",
    "\n",
    "    if os.path.exists(driver_path):\n",
    "        print(f'chrome driver is installed : {driver_path}')\n",
    "    else:\n",
    "        print(f'chrome driver is installed : {driver_path}')\n",
    "        print(f'install the chrome driver > version : {chrome_version}')\n",
    "        print(f'install complete > {driver_path}')\n",
    "        chromedriver_autoinstaller.install(True)\n",
    "    chrome_options = Options()\n",
    "    # chrome_options.add_argument('--headless')\n",
    "    # chrome_options.add_argument('--no-sandbox')\n",
    "    # chrome_options.add_argument('--disable-gpu')\n",
    "    \n",
    "    driver = webdriver.Chrome(executable_path = driver_path,\n",
    "                                chrome_options=chrome_options)\n",
    "    return driver\n",
    "\n",
    "driver = Chrome_selenium_setting()\n",
    "\n",
    "def selenium_movement(driver):\n",
    "    import scrapy\n",
    "    # selenium 실행\n",
    "    # driver = Chrome_selenium_setting()\n",
    "    body = driver.find_element_by_xpath('/html/body')\n",
    "    # selenium 움직임 설정\n",
    "    # while True:\n",
    "    #     if driver.find_element_by_ID(\"message\").text.strip() == '결과가 더 이상 없습니다.':\n",
    "    #         print(\"결과가 더 이상 없습니다.\")\n",
    "    #         break\n",
    "    body.send_keys(Keys.PAGE_DOWN)\n",
    "    \n",
    "    soup = bs(driver.page_source, 'html.parser')\n",
    "    # click_x_path = '//*[@id=\"main_pack\"]/section[1]/div[1]/div[2]/div[5]/div[1]/div/a/span'\n",
    "    # driver.get(url())\n",
    "    # body = driver.find_element_by_xpath(click_x_path)\n",
    "    # time.sleep(1)\n",
    "    # body.click()\n",
    "    \n",
    "    # text_list_xpath = '//*[@id=\"SE-fb21f21a-269d-41e2-b70b-b0e815aa18c8\"]'\n",
    "    # text_list_elements = driver.find_elements.by_xpath(text_list_xpath)\n",
    "    # for text in text_list_elements:\n",
    "    #     href = text.get_attribute('href')\n",
    "    #     yield scrapy.Request(href)\n",
    "\n",
    "    # selenium 종료\n",
    "    # driver.quit()"
   ]
  },
  {
   "cell_type": "code",
   "execution_count": 4,
   "metadata": {},
   "outputs": [
    {
     "name": "stderr",
     "output_type": "stream",
     "text": [
      "C:\\Users\\baeky\\AppData\\Local\\Temp\\ipykernel_22856\\499688027.py:40: DeprecationWarning: find_element_by_xpath is deprecated. Please use find_element(by=By.XPATH, value=xpath) instead\n",
      "  body = driver.find_element_by_xpath('/html/body')\n"
     ]
    },
    {
     "ename": "WebDriverException",
     "evalue": "Message: chrome not reachable\n  (Session info: chrome=99.0.4844.51)\nStacktrace:\nBacktrace:\n\tOrdinal0 [0x00F2CF43+2608963]\n\tOrdinal0 [0x00EBE8C1+2156737]\n\tOrdinal0 [0x00DB4190+1065360]\n\tOrdinal0 [0x00DA85D2+1017298]\n\tOrdinal0 [0x00DA8E08+1019400]\n\tOrdinal0 [0x00DAA662+1025634]\n\tOrdinal0 [0x00DA4019+999449]\n\tOrdinal0 [0x00DB5600+1070592]\n\tOrdinal0 [0x00E0AD52+1420626]\n\tOrdinal0 [0x00DFAED6+1355478]\n\tOrdinal0 [0x00DD5D86+1203590]\n\tOrdinal0 [0x00DD6C66+1207398]\n\tGetHandleVerifier [0x010D3252+1679186]\n\tGetHandleVerifier [0x0118591C+2410012]\n\tGetHandleVerifier [0x00FC3B41+567361]\n\tGetHandleVerifier [0x00FC2CC6+563654]\n\tOrdinal0 [0x00EC4B5B+2181979]\n\tOrdinal0 [0x00EC9AA8+2202280]\n\tOrdinal0 [0x00EC9B95+2202517]\n\tOrdinal0 [0x00ED3B2C+2243372]\n\tBaseThreadInitThunk [0x76616739+25]\n\tRtlGetFullPathName_UEx [0x76FD8E7F+1215]\n\tRtlGetFullPathName_UEx [0x76FD8E4D+1165]\n",
     "output_type": "error",
     "traceback": [
      "\u001b[1;31m---------------------------------------------------------------------------\u001b[0m",
      "\u001b[1;31mWebDriverException\u001b[0m                        Traceback (most recent call last)",
      "\u001b[1;32m~\\AppData\\Local\\Temp\\ipykernel_22856\\2836977534.py\u001b[0m in \u001b[0;36m<module>\u001b[1;34m\u001b[0m\n\u001b[1;32m----> 1\u001b[1;33m \u001b[0mselenium_movement\u001b[0m\u001b[1;33m(\u001b[0m\u001b[0mdriver\u001b[0m\u001b[1;33m)\u001b[0m\u001b[1;33m\u001b[0m\u001b[1;33m\u001b[0m\u001b[0m\n\u001b[0m",
      "\u001b[1;32m~\\AppData\\Local\\Temp\\ipykernel_22856\\499688027.py\u001b[0m in \u001b[0;36mselenium_movement\u001b[1;34m(driver)\u001b[0m\n\u001b[0;32m     38\u001b[0m     \u001b[1;31m# selenium 실행\u001b[0m\u001b[1;33m\u001b[0m\u001b[1;33m\u001b[0m\u001b[1;33m\u001b[0m\u001b[0m\n\u001b[0;32m     39\u001b[0m     \u001b[1;31m# driver = Chrome_selenium_setting()\u001b[0m\u001b[1;33m\u001b[0m\u001b[1;33m\u001b[0m\u001b[1;33m\u001b[0m\u001b[0m\n\u001b[1;32m---> 40\u001b[1;33m     \u001b[0mbody\u001b[0m \u001b[1;33m=\u001b[0m \u001b[0mdriver\u001b[0m\u001b[1;33m.\u001b[0m\u001b[0mfind_element_by_xpath\u001b[0m\u001b[1;33m(\u001b[0m\u001b[1;34m'/html/body'\u001b[0m\u001b[1;33m)\u001b[0m\u001b[1;33m\u001b[0m\u001b[1;33m\u001b[0m\u001b[0m\n\u001b[0m\u001b[0;32m     41\u001b[0m     \u001b[1;31m# selenium 움직임 설정\u001b[0m\u001b[1;33m\u001b[0m\u001b[1;33m\u001b[0m\u001b[1;33m\u001b[0m\u001b[0m\n\u001b[0;32m     42\u001b[0m     \u001b[1;31m# while True:\u001b[0m\u001b[1;33m\u001b[0m\u001b[1;33m\u001b[0m\u001b[1;33m\u001b[0m\u001b[0m\n",
      "\u001b[1;32m~\\anaconda3\\envs\\scrapy\\lib\\site-packages\\selenium\\webdriver\\remote\\webdriver.py\u001b[0m in \u001b[0;36mfind_element_by_xpath\u001b[1;34m(self, xpath)\u001b[0m\n\u001b[0;32m    519\u001b[0m             \u001b[0mstacklevel\u001b[0m\u001b[1;33m=\u001b[0m\u001b[1;36m2\u001b[0m\u001b[1;33m,\u001b[0m\u001b[1;33m\u001b[0m\u001b[1;33m\u001b[0m\u001b[0m\n\u001b[0;32m    520\u001b[0m         )\n\u001b[1;32m--> 521\u001b[1;33m         \u001b[1;32mreturn\u001b[0m \u001b[0mself\u001b[0m\u001b[1;33m.\u001b[0m\u001b[0mfind_element\u001b[0m\u001b[1;33m(\u001b[0m\u001b[0mby\u001b[0m\u001b[1;33m=\u001b[0m\u001b[0mBy\u001b[0m\u001b[1;33m.\u001b[0m\u001b[0mXPATH\u001b[0m\u001b[1;33m,\u001b[0m \u001b[0mvalue\u001b[0m\u001b[1;33m=\u001b[0m\u001b[0mxpath\u001b[0m\u001b[1;33m)\u001b[0m\u001b[1;33m\u001b[0m\u001b[1;33m\u001b[0m\u001b[0m\n\u001b[0m\u001b[0;32m    522\u001b[0m \u001b[1;33m\u001b[0m\u001b[0m\n\u001b[0;32m    523\u001b[0m     \u001b[1;32mdef\u001b[0m \u001b[0mfind_elements_by_xpath\u001b[0m\u001b[1;33m(\u001b[0m\u001b[0mself\u001b[0m\u001b[1;33m,\u001b[0m \u001b[0mxpath\u001b[0m\u001b[1;33m)\u001b[0m \u001b[1;33m->\u001b[0m \u001b[0mList\u001b[0m\u001b[1;33m[\u001b[0m\u001b[0mWebElement\u001b[0m\u001b[1;33m]\u001b[0m\u001b[1;33m:\u001b[0m\u001b[1;33m\u001b[0m\u001b[1;33m\u001b[0m\u001b[0m\n",
      "\u001b[1;32m~\\anaconda3\\envs\\scrapy\\lib\\site-packages\\selenium\\webdriver\\remote\\webdriver.py\u001b[0m in \u001b[0;36mfind_element\u001b[1;34m(self, by, value)\u001b[0m\n\u001b[0;32m   1246\u001b[0m             \u001b[0mvalue\u001b[0m \u001b[1;33m=\u001b[0m \u001b[1;34m'[name=\"%s\"]'\u001b[0m \u001b[1;33m%\u001b[0m \u001b[0mvalue\u001b[0m\u001b[1;33m\u001b[0m\u001b[1;33m\u001b[0m\u001b[0m\n\u001b[0;32m   1247\u001b[0m \u001b[1;33m\u001b[0m\u001b[0m\n\u001b[1;32m-> 1248\u001b[1;33m         return self.execute(Command.FIND_ELEMENT, {\n\u001b[0m\u001b[0;32m   1249\u001b[0m             \u001b[1;34m'using'\u001b[0m\u001b[1;33m:\u001b[0m \u001b[0mby\u001b[0m\u001b[1;33m,\u001b[0m\u001b[1;33m\u001b[0m\u001b[1;33m\u001b[0m\u001b[0m\n\u001b[0;32m   1250\u001b[0m             'value': value})['value']\n",
      "\u001b[1;32m~\\anaconda3\\envs\\scrapy\\lib\\site-packages\\selenium\\webdriver\\remote\\webdriver.py\u001b[0m in \u001b[0;36mexecute\u001b[1;34m(self, driver_command, params)\u001b[0m\n\u001b[0;32m    423\u001b[0m         \u001b[0mresponse\u001b[0m \u001b[1;33m=\u001b[0m \u001b[0mself\u001b[0m\u001b[1;33m.\u001b[0m\u001b[0mcommand_executor\u001b[0m\u001b[1;33m.\u001b[0m\u001b[0mexecute\u001b[0m\u001b[1;33m(\u001b[0m\u001b[0mdriver_command\u001b[0m\u001b[1;33m,\u001b[0m \u001b[0mparams\u001b[0m\u001b[1;33m)\u001b[0m\u001b[1;33m\u001b[0m\u001b[1;33m\u001b[0m\u001b[0m\n\u001b[0;32m    424\u001b[0m         \u001b[1;32mif\u001b[0m \u001b[0mresponse\u001b[0m\u001b[1;33m:\u001b[0m\u001b[1;33m\u001b[0m\u001b[1;33m\u001b[0m\u001b[0m\n\u001b[1;32m--> 425\u001b[1;33m             \u001b[0mself\u001b[0m\u001b[1;33m.\u001b[0m\u001b[0merror_handler\u001b[0m\u001b[1;33m.\u001b[0m\u001b[0mcheck_response\u001b[0m\u001b[1;33m(\u001b[0m\u001b[0mresponse\u001b[0m\u001b[1;33m)\u001b[0m\u001b[1;33m\u001b[0m\u001b[1;33m\u001b[0m\u001b[0m\n\u001b[0m\u001b[0;32m    426\u001b[0m             response['value'] = self._unwrap_value(\n\u001b[0;32m    427\u001b[0m                 response.get('value', None))\n",
      "\u001b[1;32m~\\anaconda3\\envs\\scrapy\\lib\\site-packages\\selenium\\webdriver\\remote\\errorhandler.py\u001b[0m in \u001b[0;36mcheck_response\u001b[1;34m(self, response)\u001b[0m\n\u001b[0;32m    245\u001b[0m                 \u001b[0malert_text\u001b[0m \u001b[1;33m=\u001b[0m \u001b[0mvalue\u001b[0m\u001b[1;33m[\u001b[0m\u001b[1;34m'alert'\u001b[0m\u001b[1;33m]\u001b[0m\u001b[1;33m.\u001b[0m\u001b[0mget\u001b[0m\u001b[1;33m(\u001b[0m\u001b[1;34m'text'\u001b[0m\u001b[1;33m)\u001b[0m\u001b[1;33m\u001b[0m\u001b[1;33m\u001b[0m\u001b[0m\n\u001b[0;32m    246\u001b[0m             \u001b[1;32mraise\u001b[0m \u001b[0mexception_class\u001b[0m\u001b[1;33m(\u001b[0m\u001b[0mmessage\u001b[0m\u001b[1;33m,\u001b[0m \u001b[0mscreen\u001b[0m\u001b[1;33m,\u001b[0m \u001b[0mstacktrace\u001b[0m\u001b[1;33m,\u001b[0m \u001b[0malert_text\u001b[0m\u001b[1;33m)\u001b[0m  \u001b[1;31m# type: ignore[call-arg]  # mypy is not smart enough here\u001b[0m\u001b[1;33m\u001b[0m\u001b[1;33m\u001b[0m\u001b[0m\n\u001b[1;32m--> 247\u001b[1;33m         \u001b[1;32mraise\u001b[0m \u001b[0mexception_class\u001b[0m\u001b[1;33m(\u001b[0m\u001b[0mmessage\u001b[0m\u001b[1;33m,\u001b[0m \u001b[0mscreen\u001b[0m\u001b[1;33m,\u001b[0m \u001b[0mstacktrace\u001b[0m\u001b[1;33m)\u001b[0m\u001b[1;33m\u001b[0m\u001b[1;33m\u001b[0m\u001b[0m\n\u001b[0m\u001b[0;32m    248\u001b[0m \u001b[1;33m\u001b[0m\u001b[0m\n\u001b[0;32m    249\u001b[0m     \u001b[1;32mdef\u001b[0m \u001b[0m_value_or_default\u001b[0m\u001b[1;33m(\u001b[0m\u001b[0mself\u001b[0m\u001b[1;33m,\u001b[0m \u001b[0mobj\u001b[0m\u001b[1;33m:\u001b[0m \u001b[0mMapping\u001b[0m\u001b[1;33m[\u001b[0m\u001b[0m_KT\u001b[0m\u001b[1;33m,\u001b[0m \u001b[0m_VT\u001b[0m\u001b[1;33m]\u001b[0m\u001b[1;33m,\u001b[0m \u001b[0mkey\u001b[0m\u001b[1;33m:\u001b[0m \u001b[0m_KT\u001b[0m\u001b[1;33m,\u001b[0m \u001b[0mdefault\u001b[0m\u001b[1;33m:\u001b[0m \u001b[0m_VT\u001b[0m\u001b[1;33m)\u001b[0m \u001b[1;33m->\u001b[0m \u001b[0m_VT\u001b[0m\u001b[1;33m:\u001b[0m\u001b[1;33m\u001b[0m\u001b[1;33m\u001b[0m\u001b[0m\n",
      "\u001b[1;31mWebDriverException\u001b[0m: Message: chrome not reachable\n  (Session info: chrome=99.0.4844.51)\nStacktrace:\nBacktrace:\n\tOrdinal0 [0x00F2CF43+2608963]\n\tOrdinal0 [0x00EBE8C1+2156737]\n\tOrdinal0 [0x00DB4190+1065360]\n\tOrdinal0 [0x00DA85D2+1017298]\n\tOrdinal0 [0x00DA8E08+1019400]\n\tOrdinal0 [0x00DAA662+1025634]\n\tOrdinal0 [0x00DA4019+999449]\n\tOrdinal0 [0x00DB5600+1070592]\n\tOrdinal0 [0x00E0AD52+1420626]\n\tOrdinal0 [0x00DFAED6+1355478]\n\tOrdinal0 [0x00DD5D86+1203590]\n\tOrdinal0 [0x00DD6C66+1207398]\n\tGetHandleVerifier [0x010D3252+1679186]\n\tGetHandleVerifier [0x0118591C+2410012]\n\tGetHandleVerifier [0x00FC3B41+567361]\n\tGetHandleVerifier [0x00FC2CC6+563654]\n\tOrdinal0 [0x00EC4B5B+2181979]\n\tOrdinal0 [0x00EC9AA8+2202280]\n\tOrdinal0 [0x00EC9B95+2202517]\n\tOrdinal0 [0x00ED3B2C+2243372]\n\tBaseThreadInitThunk [0x76616739+25]\n\tRtlGetFullPathName_UEx [0x76FD8E7F+1215]\n\tRtlGetFullPathName_UEx [0x76FD8E4D+1165]\n"
     ]
    }
   ],
   "source": [
    "selenium_movement(driver)"
   ]
  },
  {
   "cell_type": "code",
   "execution_count": null,
   "metadata": {},
   "outputs": [],
   "source": []
  }
 ],
 "metadata": {
  "interpreter": {
   "hash": "d8e85bb4155938a63eb24146fef15fd058dfdaf7d7eb7fbad1d1d3227f809d67"
  },
  "kernelspec": {
   "display_name": "Python 3.8.12 ('scrapy')",
   "language": "python",
   "name": "python3"
  },
  "language_info": {
   "codemirror_mode": {
    "name": "ipython",
    "version": 3
   },
   "file_extension": ".py",
   "mimetype": "text/x-python",
   "name": "python",
   "nbconvert_exporter": "python",
   "pygments_lexer": "ipython3",
   "version": "3.8.12"
  },
  "orig_nbformat": 4
 },
 "nbformat": 4,
 "nbformat_minor": 2
}
